{
 "cells": [
  {
   "cell_type": "code",
   "execution_count": 1,
   "metadata": {},
   "outputs": [],
   "source": [
    "from Generate_slides import CodeSlideCreator, HeaderSlideCreator\n",
    "from PIL import Image, ImageDraw, ImageFont\n",
    "import emoji\n",
    "from pilmoji import Pilmoji\n",
    "from bs4 import BeautifulSoup as bs\n",
    "from BS_extension import MyDivExtension\n",
    "import markdown"
   ]
  },
  {
   "cell_type": "code",
   "execution_count": 15,
   "metadata": {},
   "outputs": [],
   "source": [
    "\n",
    "my_string = '''\n",
    "Hello, world! 👋 look :blush: Here are some emojis: 🎨 🌊 😎\n",
    "I also support Discord emoji: <:rooThink:596576798351949847>\n",
    "'''\n",
    "my_string = \"Hello, world :blush:\"\n",
    "my_string = emoji.emojize(my_string, language='alias')\n",
    "# create a new image with a white background\n",
    "background = Image.new('RGB', (550, 300), (255, 255, 255))\n",
    "\n",
    "with Image.new('RGB', (550, 80), (255, 255, 255)) as image:\n",
    "    font = ImageFont.truetype('arial.ttf', 24)\n",
    "\n",
    "    with Pilmoji(image) as pilmoji:\n",
    "        pilmoji.text((10, 10), my_string.strip(), (0, 0, 0), font)\n",
    "\n",
    "    # paste the text onto the background   \n",
    "    background.paste(image, (0, 0))\n",
    "    image.show()\n",
    "background.show()"
   ]
  },
  {
   "cell_type": "code",
   "execution_count": null,
   "metadata": {},
   "outputs": [
    {
     "name": "stdout",
     "output_type": "stream",
     "text": [
      "Python is 👍\n"
     ]
    }
   ],
   "source": [
    "\n",
    "# Create a white background\n",
    "background = Image.new('RGB', (1920, 1080), (255, 255, 255))\n",
    "\n",
    "# draw some text with the smiley :blush: on the background \n",
    "draw = ImageDraw.Draw(background)\n",
    "font = ImageFont.truetype(\"arial.ttf\", 100)\n",
    "draw.text((10, 10), \"Hello World!\", (0, 0, 0), font=font)\n",
    "draw.text((10, 110), \"This is a smiley: 😊\", (0, 0, 0), font=font)\n",
    "\n",
    "print(emoji.emojize('Python is :thumbs_up:'))\n",
    "\n",
    "#background.show()\n",
    "#background.save(\"smiley_text.png\")\n"
   ]
  },
  {
   "cell_type": "code",
   "execution_count": 9,
   "metadata": {},
   "outputs": [],
   "source": [
    "# Create a white background\n",
    "background = Image.new('RGB', (1920, 1080), (255, 255, 255))\n",
    "# draw some text with the smiley :blush: on the background\n",
    "draw = ImageDraw.Draw(background)\n",
    "font = ImageFont.truetype(\"arial.ttf\", 100)\n",
    "draw.text((10, 10), \"Hello World!\", (0, 0, 0), font=font)\n",
    "draw.text((10, 110), emoji.emojize(\"This is a smiley: :blush:\", language='alias'), (0, 0, 0), font=font\n",
    "          )\n",
    "background.show()"
   ]
  },
  {
   "cell_type": "code",
   "execution_count": 7,
   "metadata": {},
   "outputs": [
    {
     "name": "stdout",
     "output_type": "stream",
     "text": [
      "\n",
      "\n",
      "List Header\n",
      "\n",
      "\n",
      "\n",
      "first item 😊\n",
      "second item\n",
      "third item\n",
      "\n",
      "\n",
      "\n"
     ]
    }
   ],
   "source": [
    "def create_soup(markdown_path = \"test.md\"):\n",
    "    with open(markdown_path) as f:\n",
    "        text = f.read()\n",
    "    html = markdown.markdown(text, extensions=[MyDivExtension()])\n",
    "    return bs(html, \"html.parser\")\n",
    "\n",
    "soup = create_soup()\n",
    "for div in soup.find_all(\"div\"):\n",
    "    for child in div.children:\n",
    "        print(emoji.emojize(child.text, language='alias'))"
   ]
  },
  {
   "cell_type": "code",
   "execution_count": null,
   "metadata": {},
   "outputs": [],
   "source": []
  }
 ],
 "metadata": {
  "kernelspec": {
   "display_name": ".venv",
   "language": "python",
   "name": "python3"
  },
  "language_info": {
   "codemirror_mode": {
    "name": "ipython",
    "version": 3
   },
   "file_extension": ".py",
   "mimetype": "text/x-python",
   "name": "python",
   "nbconvert_exporter": "python",
   "pygments_lexer": "ipython3",
   "version": "3.12.3"
  }
 },
 "nbformat": 4,
 "nbformat_minor": 2
}
